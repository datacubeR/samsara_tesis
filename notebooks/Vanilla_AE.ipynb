{
 "cells": [
  {
   "cell_type": "code",
   "execution_count": 1,
   "metadata": {},
   "outputs": [
    {
     "name": "stderr",
     "output_type": "stream",
     "text": [
      "/home/datacuber/miniconda3/envs/dl/lib/python3.9/site-packages/tqdm/auto.py:22: TqdmWarning: IProgress not found. Please update jupyter and ipywidgets. See https://ipywidgets.readthedocs.io/en/stable/user_install.html\n",
      "  from .autonotebook import tqdm as notebook_tqdm\n",
      "Global seed set to 42\n"
     ]
    },
    {
     "name": "stdout",
     "output_type": "stream",
     "text": [
      "Número de TSs: 100\n",
      "Largo Promedio por TS: 268.0\n",
      "Promedio de Nulos por TS: 12.23\n"
     ]
    },
    {
     "data": {
      "text/plain": [
       "date         0.0\n",
       "ndvi         0.0\n",
       "ts_id        0.0\n",
       "ndvi_null    0.0\n",
       "id           0.0\n",
       "dtype: float64"
      ]
     },
     "execution_count": 1,
     "metadata": {},
     "output_type": "execute_result"
    }
   ],
   "source": [
    "import pandas as pd\n",
    "import numpy as np\n",
    "import torch \n",
    "import torch.nn as nn\n",
    "import matplotlib.pyplot as plt\n",
    "from deepant import ForecastBasedDataset, DataModule, DeepAnT, ForecastBasedAD\n",
    "from pytorch_lightning.callbacks import ModelCheckpoint\n",
    "\n",
    "import pytorch_lightning as pl\n",
    "import seaborn as sns\n",
    "\n",
    "from utils import ts_stats, create_sequences\n",
    "pl.seed_everything(42, workers=True)\n",
    "\n",
    "\n",
    "df = pd.read_csv('../data/Non_Disturbed_Resample_m.csv', parse_dates=['date'])\n",
    "ts_stats(df)\n",
    "\n",
    "## Interpolación\n",
    "df['ndvi'] = df.ndvi.interpolate()\n",
    "df.isnull().mean()"
   ]
  },
  {
   "cell_type": "code",
   "execution_count": 2,
   "metadata": {},
   "outputs": [],
   "source": [
    "ids = df.ts_id.unique()\n",
    "sequences = []\n",
    "divisor = []\n",
    "indices = []\n",
    "dates = []\n",
    "seq_len = 10\n",
    "for id in ids:\n",
    "    ts = df.query('ts_id == @id').to_numpy()\n",
    "    subsequences = np.zeros((len(ts)-seq_len+1, seq_len))\n",
    "    subindices = np.empty((len(ts)-seq_len+1, seq_len), dtype = 'object')\n",
    "    subdates = np.empty((len(ts)-seq_len+1, seq_len), dtype = 'datetime64[D]')\n",
    "    subdivisor = np.zeros(len(ts))\n",
    "    for i in range(len(ts)-seq_len+1):\n",
    "        subsequences[i] = ts[i:i+seq_len,1]\n",
    "        subindices[i] = ts[i:i+seq_len,4]\n",
    "        subdates[i] = ts[i:i+seq_len,0]\n",
    "        subdivisor[i:i+seq_len] += np.ones(seq_len)\n",
    "\n",
    "    sequences.extend(subsequences)\n",
    "    divisor.append(subdivisor)\n",
    "    indices.extend(subindices)\n",
    "    dates.extend(subdates)\n"
   ]
  },
  {
   "cell_type": "code",
   "execution_count": 3,
   "metadata": {},
   "outputs": [],
   "source": [
    "from torch.utils.data import Dataset, DataLoader"
   ]
  },
  {
   "cell_type": "code",
   "execution_count": 4,
   "metadata": {},
   "outputs": [],
   "source": [
    "class ReconstructionBasedDataset(Dataset):\n",
    "    def __init__(self, sequences):\n",
    "        self.sequences = sequences\n",
    "\n",
    "    def __len__(self): \n",
    "        return len(self.sequences)\n",
    "    \n",
    "    def __getitem__(self, idx):\n",
    "        return torch.tensor(self.sequences[idx], dtype = torch.float)"
   ]
  },
  {
   "cell_type": "code",
   "execution_count": 5,
   "metadata": {},
   "outputs": [
    {
     "data": {
      "text/plain": [
       "torch.Size([10])"
      ]
     },
     "execution_count": 5,
     "metadata": {},
     "output_type": "execute_result"
    }
   ],
   "source": [
    "data = ReconstructionBasedDataset(sequences)\n",
    "data[0].shape"
   ]
  },
  {
   "cell_type": "code",
   "execution_count": 6,
   "metadata": {},
   "outputs": [],
   "source": [
    "class DataModule(pl.LightningDataModule):\n",
    "    def __init__(self, sequences):\n",
    "        super().__init__()\n",
    "        self.sequences = sequences\n",
    "\n",
    "    def setup(self, stage = None): \n",
    "        self.train_dataset = ReconstructionBasedDataset(self.sequences)\n",
    "\n",
    "    def train_dataloader(self):\n",
    "        return DataLoader(self.train_dataset, batch_size = 32, num_workers = 8, pin_memory = True, shuffle=False)\n",
    "    \n",
    "    def predict_dataloader(self):\n",
    "        return DataLoader(self.train_dataset, batch_size=1, num_workers = 8, pin_memory = True, shuffle=False)\n",
    "\n",
    "\n",
    "\n",
    "\n"
   ]
  },
  {
   "cell_type": "code",
   "execution_count": 7,
   "metadata": {},
   "outputs": [],
   "source": [
    "class VanillaAE(nn.Module): \n",
    "    def __init__(self, input_dim, hs_1 = 40, hs_2 = 20, hs_3 = 10):\n",
    "        super().__init__()\n",
    "        self.fc1 = nn.Linear(input_dim, hs_1)\n",
    "        self.relu1 = nn.ReLU(inplace=True)\n",
    "        self.fc2 = nn.Linear(hs_1, hs_2)\n",
    "        self.relu2 = nn.ReLU(inplace=True)\n",
    "        self.fc3 = nn.Linear(hs_2, hs_3)\n",
    "        self.relu3 = nn.ReLU(inplace=True)\n",
    "        self.fc4 = nn.Linear(hs_3, hs_2)\n",
    "        self.relu4 = nn.ReLU(inplace=True)\n",
    "        self.fc5 = nn.Linear(hs_2, hs_1)\n",
    "        self.relu5 = nn.ReLU(inplace=True)\n",
    "        self.fc6 = nn.Linear(hs_1, input_dim)\n",
    "\n",
    "    def forward(self, x):\n",
    "        x = self.fc1(x)\n",
    "        x = self.relu1(x)\n",
    "        x = self.fc2(x)\n",
    "        x = self.relu2(x)\n",
    "        x = self.fc3(x)\n",
    "        x = self.relu3(x)\n",
    "        x = self.fc4(x)\n",
    "        x = self.relu4(x)\n",
    "        x = self.fc5(x)\n",
    "        x = self.relu5(x)\n",
    "        x = self.fc6(x)\n",
    "        return x\n",
    "\n",
    "vanilla_ae = VanillaAE(input_dim = seq_len)\n",
    "\n",
    "\n",
    "class ReconstructionBasedAD(pl.LightningModule):\n",
    "    def __init__(self, model):\n",
    "        super().__init__()\n",
    "        self.model = model\n",
    "        self.criterion = nn.MSELoss()\n",
    "\n",
    "    def forward(self, x):\n",
    "        return self.model(x)\n",
    "    \n",
    "    def training_step(self, batch, batch_idx):\n",
    "        x_hat = self.model(batch)\n",
    "        loss = self.criterion(x_hat, batch)\n",
    "        self.log('train_loss', loss,  prog_bar = True, logger = True)\n",
    "        return loss\n",
    "\n",
    "    def predict_step(self, batch, batch_idx):\n",
    "        pred_seq = self(batch)\n",
    "        loss = self.criterion(pred_seq, batch)\n",
    "        return (pred_seq - batch)**2 \n",
    "    \n",
    "    def configure_optimizers(self):\n",
    "        return torch.optim.Adam(self.parameters(), lr=1e-5)\n",
    "\n",
    "    \n",
    "\n",
    "\n"
   ]
  },
  {
   "cell_type": "code",
   "execution_count": 8,
   "metadata": {},
   "outputs": [
    {
     "name": "stderr",
     "output_type": "stream",
     "text": [
      "GPU available: True (cuda), used: True\n",
      "TPU available: False, using: 0 TPU cores\n",
      "IPU available: False, using: 0 IPUs\n",
      "HPU available: False, using: 0 HPUs\n",
      "/home/datacuber/miniconda3/envs/dl/lib/python3.9/site-packages/pytorch_lightning/callbacks/model_checkpoint.py:616: UserWarning: Checkpoint directory /home/datacuber/Documents/MSDS/samsara_tesis/notebooks/checkpoints exists and is not empty.\n",
      "  rank_zero_warn(f\"Checkpoint directory {dirpath} exists and is not empty.\")\n",
      "LOCAL_RANK: 0 - CUDA_VISIBLE_DEVICES: [0]\n",
      "\n",
      "  | Name      | Type      | Params\n",
      "----------------------------------------\n",
      "0 | model     | VanillaAE | 2.9 K \n",
      "1 | criterion | MSELoss   | 0     \n",
      "----------------------------------------\n",
      "2.9 K     Trainable params\n",
      "0         Non-trainable params\n",
      "2.9 K     Total params\n",
      "0.012     Total estimated model params size (MB)\n"
     ]
    },
    {
     "name": "stdout",
     "output_type": "stream",
     "text": [
      "Epoch 0:   5%|▍         | 39/810 [00:00<00:15, 49.90it/s, loss=0.437, v_num=4, train_loss=0.491]"
     ]
    },
    {
     "name": "stderr",
     "output_type": "stream",
     "text": [
      "/home/datacuber/miniconda3/envs/dl/lib/python3.9/site-packages/pytorch_lightning/core/module.py:555: UserWarning: To copy construct from a tensor, it is recommended to use sourceTensor.clone().detach() or sourceTensor.clone().detach().requires_grad_(True), rather than torch.tensor(sourceTensor).\n",
      "  value = torch.tensor(value, device=self.device)\n"
     ]
    },
    {
     "name": "stdout",
     "output_type": "stream",
     "text": [
      "Epoch 0: 100%|██████████| 810/810 [00:05<00:00, 156.55it/s, loss=0.324, v_num=4, train_loss=0.249] "
     ]
    },
    {
     "name": "stderr",
     "output_type": "stream",
     "text": [
      "Epoch 0, global step 810: 'train_loss' reached 0.24924 (best 0.24924), saving model to '/home/datacuber/Documents/MSDS/samsara_tesis/notebooks/checkpoints/epoch=0-step=810.ckpt' as top 1\n"
     ]
    },
    {
     "name": "stdout",
     "output_type": "stream",
     "text": [
      "Epoch 1: 100%|██████████| 810/810 [00:04<00:00, 185.14it/s, loss=0.265, v_num=4, train_loss=0.198] "
     ]
    },
    {
     "name": "stderr",
     "output_type": "stream",
     "text": [
      "Epoch 1, global step 1620: 'train_loss' reached 0.19765 (best 0.19765), saving model to '/home/datacuber/Documents/MSDS/samsara_tesis/notebooks/checkpoints/epoch=1-step=1620.ckpt' as top 1\n"
     ]
    },
    {
     "name": "stdout",
     "output_type": "stream",
     "text": [
      "Epoch 2: 100%|██████████| 810/810 [00:04<00:00, 187.63it/s, loss=0.194, v_num=4, train_loss=0.137] "
     ]
    },
    {
     "name": "stderr",
     "output_type": "stream",
     "text": [
      "Epoch 2, global step 2430: 'train_loss' reached 0.13655 (best 0.13655), saving model to '/home/datacuber/Documents/MSDS/samsara_tesis/notebooks/checkpoints/epoch=2-step=2430.ckpt' as top 1\n"
     ]
    },
    {
     "name": "stdout",
     "output_type": "stream",
     "text": [
      "Epoch 3: 100%|██████████| 810/810 [00:04<00:00, 186.09it/s, loss=0.11, v_num=4, train_loss=0.0688]  "
     ]
    },
    {
     "name": "stderr",
     "output_type": "stream",
     "text": [
      "Epoch 3, global step 3240: 'train_loss' reached 0.06885 (best 0.06885), saving model to '/home/datacuber/Documents/MSDS/samsara_tesis/notebooks/checkpoints/epoch=3-step=3240.ckpt' as top 1\n"
     ]
    },
    {
     "name": "stdout",
     "output_type": "stream",
     "text": [
      "Epoch 4: 100%|██████████| 810/810 [00:04<00:00, 180.42it/s, loss=0.0445, v_num=4, train_loss=0.0216]"
     ]
    },
    {
     "name": "stderr",
     "output_type": "stream",
     "text": [
      "Epoch 4, global step 4050: 'train_loss' reached 0.02159 (best 0.02159), saving model to '/home/datacuber/Documents/MSDS/samsara_tesis/notebooks/checkpoints/epoch=4-step=4050.ckpt' as top 1\n"
     ]
    },
    {
     "name": "stdout",
     "output_type": "stream",
     "text": [
      "Epoch 5: 100%|██████████| 810/810 [00:04<00:00, 184.90it/s, loss=0.018, v_num=4, train_loss=0.00697] "
     ]
    },
    {
     "name": "stderr",
     "output_type": "stream",
     "text": [
      "Epoch 5, global step 4860: 'train_loss' reached 0.00697 (best 0.00697), saving model to '/home/datacuber/Documents/MSDS/samsara_tesis/notebooks/checkpoints/epoch=5-step=4860.ckpt' as top 1\n"
     ]
    },
    {
     "name": "stdout",
     "output_type": "stream",
     "text": [
      "Epoch 6: 100%|██████████| 810/810 [00:04<00:00, 185.31it/s, loss=0.011, v_num=4, train_loss=0.00417]  "
     ]
    },
    {
     "name": "stderr",
     "output_type": "stream",
     "text": [
      "Epoch 6, global step 5670: 'train_loss' reached 0.00417 (best 0.00417), saving model to '/home/datacuber/Documents/MSDS/samsara_tesis/notebooks/checkpoints/epoch=6-step=5670.ckpt' as top 1\n"
     ]
    },
    {
     "name": "stdout",
     "output_type": "stream",
     "text": [
      "Epoch 7: 100%|██████████| 810/810 [00:04<00:00, 185.84it/s, loss=0.00936, v_num=4, train_loss=0.00382]"
     ]
    },
    {
     "name": "stderr",
     "output_type": "stream",
     "text": [
      "Epoch 7, global step 6480: 'train_loss' reached 0.00382 (best 0.00382), saving model to '/home/datacuber/Documents/MSDS/samsara_tesis/notebooks/checkpoints/epoch=7-step=6480.ckpt' as top 1\n"
     ]
    },
    {
     "name": "stdout",
     "output_type": "stream",
     "text": [
      "Epoch 8: 100%|██████████| 810/810 [00:04<00:00, 192.47it/s, loss=0.00901, v_num=4, train_loss=0.00391]"
     ]
    },
    {
     "name": "stderr",
     "output_type": "stream",
     "text": [
      "Epoch 8, global step 7290: 'train_loss' was not in top 1\n"
     ]
    },
    {
     "name": "stdout",
     "output_type": "stream",
     "text": [
      "Epoch 9: 100%|██████████| 810/810 [00:04<00:00, 195.07it/s, loss=0.00891, v_num=4, train_loss=0.00396]"
     ]
    },
    {
     "name": "stderr",
     "output_type": "stream",
     "text": [
      "Epoch 9, global step 8100: 'train_loss' was not in top 1\n"
     ]
    },
    {
     "name": "stdout",
     "output_type": "stream",
     "text": [
      "Epoch 10: 100%|██████████| 810/810 [00:04<00:00, 191.39it/s, loss=0.00884, v_num=4, train_loss=0.00399]"
     ]
    },
    {
     "name": "stderr",
     "output_type": "stream",
     "text": [
      "Epoch 10, global step 8910: 'train_loss' was not in top 1\n"
     ]
    },
    {
     "name": "stdout",
     "output_type": "stream",
     "text": [
      "Epoch 11: 100%|██████████| 810/810 [00:04<00:00, 195.91it/s, loss=0.00879, v_num=4, train_loss=0.00398]"
     ]
    },
    {
     "name": "stderr",
     "output_type": "stream",
     "text": [
      "Epoch 11, global step 9720: 'train_loss' was not in top 1\n"
     ]
    },
    {
     "name": "stdout",
     "output_type": "stream",
     "text": [
      "Epoch 12: 100%|██████████| 810/810 [00:04<00:00, 194.57it/s, loss=0.00874, v_num=4, train_loss=0.00397]"
     ]
    },
    {
     "name": "stderr",
     "output_type": "stream",
     "text": [
      "Epoch 12, global step 10530: 'train_loss' was not in top 1\n"
     ]
    },
    {
     "name": "stdout",
     "output_type": "stream",
     "text": [
      "Epoch 13: 100%|██████████| 810/810 [00:04<00:00, 198.77it/s, loss=0.00868, v_num=4, train_loss=0.00396]"
     ]
    },
    {
     "name": "stderr",
     "output_type": "stream",
     "text": [
      "Epoch 13, global step 11340: 'train_loss' was not in top 1\n"
     ]
    },
    {
     "name": "stdout",
     "output_type": "stream",
     "text": [
      "Epoch 14: 100%|██████████| 810/810 [00:04<00:00, 199.66it/s, loss=0.00862, v_num=4, train_loss=0.00395]"
     ]
    },
    {
     "name": "stderr",
     "output_type": "stream",
     "text": [
      "Epoch 14, global step 12150: 'train_loss' was not in top 1\n"
     ]
    },
    {
     "name": "stdout",
     "output_type": "stream",
     "text": [
      "Epoch 15: 100%|██████████| 810/810 [00:04<00:00, 201.70it/s, loss=0.00857, v_num=4, train_loss=0.00393]"
     ]
    },
    {
     "name": "stderr",
     "output_type": "stream",
     "text": [
      "Epoch 15, global step 12960: 'train_loss' was not in top 1\n"
     ]
    },
    {
     "name": "stdout",
     "output_type": "stream",
     "text": [
      "Epoch 16: 100%|██████████| 810/810 [00:04<00:00, 201.24it/s, loss=0.00852, v_num=4, train_loss=0.00392]"
     ]
    },
    {
     "name": "stderr",
     "output_type": "stream",
     "text": [
      "Epoch 16, global step 13770: 'train_loss' was not in top 1\n"
     ]
    },
    {
     "name": "stdout",
     "output_type": "stream",
     "text": [
      "Epoch 17: 100%|██████████| 810/810 [00:04<00:00, 199.78it/s, loss=0.00847, v_num=4, train_loss=0.00391]"
     ]
    },
    {
     "name": "stderr",
     "output_type": "stream",
     "text": [
      "Epoch 17, global step 14580: 'train_loss' was not in top 1\n"
     ]
    },
    {
     "name": "stdout",
     "output_type": "stream",
     "text": [
      "Epoch 18: 100%|██████████| 810/810 [00:04<00:00, 200.41it/s, loss=0.00843, v_num=4, train_loss=0.00389]"
     ]
    },
    {
     "name": "stderr",
     "output_type": "stream",
     "text": [
      "Epoch 18, global step 15390: 'train_loss' was not in top 1\n"
     ]
    },
    {
     "name": "stdout",
     "output_type": "stream",
     "text": [
      "Epoch 19: 100%|██████████| 810/810 [00:04<00:00, 200.42it/s, loss=0.00838, v_num=4, train_loss=0.00388]"
     ]
    },
    {
     "name": "stderr",
     "output_type": "stream",
     "text": [
      "Epoch 19, global step 16200: 'train_loss' was not in top 1\n"
     ]
    },
    {
     "name": "stdout",
     "output_type": "stream",
     "text": [
      "Epoch 20: 100%|██████████| 810/810 [00:04<00:00, 198.34it/s, loss=0.00834, v_num=4, train_loss=0.00386]"
     ]
    },
    {
     "name": "stderr",
     "output_type": "stream",
     "text": [
      "Epoch 20, global step 17010: 'train_loss' was not in top 1\n"
     ]
    },
    {
     "name": "stdout",
     "output_type": "stream",
     "text": [
      "Epoch 21: 100%|██████████| 810/810 [00:04<00:00, 199.22it/s, loss=0.00829, v_num=4, train_loss=0.00385]"
     ]
    },
    {
     "name": "stderr",
     "output_type": "stream",
     "text": [
      "Epoch 21, global step 17820: 'train_loss' was not in top 1\n"
     ]
    },
    {
     "name": "stdout",
     "output_type": "stream",
     "text": [
      "Epoch 22: 100%|██████████| 810/810 [00:04<00:00, 201.15it/s, loss=0.00825, v_num=4, train_loss=0.00384]"
     ]
    },
    {
     "name": "stderr",
     "output_type": "stream",
     "text": [
      "Epoch 22, global step 18630: 'train_loss' was not in top 1\n"
     ]
    },
    {
     "name": "stdout",
     "output_type": "stream",
     "text": [
      "Epoch 23: 100%|██████████| 810/810 [00:04<00:00, 197.75it/s, loss=0.00821, v_num=4, train_loss=0.00382]"
     ]
    },
    {
     "name": "stderr",
     "output_type": "stream",
     "text": [
      "Epoch 23, global step 19440: 'train_loss' reached 0.00382 (best 0.00382), saving model to '/home/datacuber/Documents/MSDS/samsara_tesis/notebooks/checkpoints/epoch=23-step=19440.ckpt' as top 1\n"
     ]
    },
    {
     "name": "stdout",
     "output_type": "stream",
     "text": [
      "Epoch 24: 100%|██████████| 810/810 [00:04<00:00, 197.39it/s, loss=0.00817, v_num=4, train_loss=0.00381]"
     ]
    },
    {
     "name": "stderr",
     "output_type": "stream",
     "text": [
      "Epoch 24, global step 20250: 'train_loss' reached 0.00381 (best 0.00381), saving model to '/home/datacuber/Documents/MSDS/samsara_tesis/notebooks/checkpoints/epoch=24-step=20250.ckpt' as top 1\n"
     ]
    },
    {
     "name": "stdout",
     "output_type": "stream",
     "text": [
      "Epoch 25: 100%|██████████| 810/810 [00:04<00:00, 199.10it/s, loss=0.00813, v_num=4, train_loss=0.00379]"
     ]
    },
    {
     "name": "stderr",
     "output_type": "stream",
     "text": [
      "Epoch 25, global step 21060: 'train_loss' reached 0.00379 (best 0.00379), saving model to '/home/datacuber/Documents/MSDS/samsara_tesis/notebooks/checkpoints/epoch=25-step=21060.ckpt' as top 1\n"
     ]
    },
    {
     "name": "stdout",
     "output_type": "stream",
     "text": [
      "Epoch 26: 100%|██████████| 810/810 [00:04<00:00, 199.22it/s, loss=0.00808, v_num=4, train_loss=0.00378]"
     ]
    },
    {
     "name": "stderr",
     "output_type": "stream",
     "text": [
      "Epoch 26, global step 21870: 'train_loss' reached 0.00378 (best 0.00378), saving model to '/home/datacuber/Documents/MSDS/samsara_tesis/notebooks/checkpoints/epoch=26-step=21870.ckpt' as top 1\n"
     ]
    },
    {
     "name": "stdout",
     "output_type": "stream",
     "text": [
      "Epoch 27: 100%|██████████| 810/810 [00:04<00:00, 199.48it/s, loss=0.00804, v_num=4, train_loss=0.00376]"
     ]
    },
    {
     "name": "stderr",
     "output_type": "stream",
     "text": [
      "Epoch 27, global step 22680: 'train_loss' reached 0.00376 (best 0.00376), saving model to '/home/datacuber/Documents/MSDS/samsara_tesis/notebooks/checkpoints/epoch=27-step=22680.ckpt' as top 1\n"
     ]
    },
    {
     "name": "stdout",
     "output_type": "stream",
     "text": [
      "Epoch 28: 100%|██████████| 810/810 [00:04<00:00, 187.36it/s, loss=0.008, v_num=4, train_loss=0.00374]  "
     ]
    },
    {
     "name": "stderr",
     "output_type": "stream",
     "text": [
      "Epoch 28, global step 23490: 'train_loss' reached 0.00374 (best 0.00374), saving model to '/home/datacuber/Documents/MSDS/samsara_tesis/notebooks/checkpoints/epoch=28-step=23490.ckpt' as top 1\n"
     ]
    },
    {
     "name": "stdout",
     "output_type": "stream",
     "text": [
      "Epoch 29: 100%|██████████| 810/810 [00:04<00:00, 185.24it/s, loss=0.00796, v_num=4, train_loss=0.00373]"
     ]
    },
    {
     "name": "stderr",
     "output_type": "stream",
     "text": [
      "Epoch 29, global step 24300: 'train_loss' reached 0.00373 (best 0.00373), saving model to '/home/datacuber/Documents/MSDS/samsara_tesis/notebooks/checkpoints/epoch=29-step=24300-v2.ckpt' as top 1\n",
      "`Trainer.fit` stopped: `max_epochs=30` reached.\n"
     ]
    },
    {
     "name": "stdout",
     "output_type": "stream",
     "text": [
      "Epoch 29: 100%|██████████| 810/810 [00:04<00:00, 184.81it/s, loss=0.00796, v_num=4, train_loss=0.00373]\n"
     ]
    }
   ],
   "source": [
    "NAME = 'VanillaAE_Non_Disturbed_Resample_m'\n",
    "model = VanillaAE(input_dim = seq_len)\n",
    "anomaly_detector = ReconstructionBasedAD(model)\n",
    "dm = DataModule(sequences)\n",
    "mc = ModelCheckpoint(\n",
    "    dirpath = 'checkpoints',\n",
    "    save_last = True,\n",
    "    save_top_k = 1,\n",
    "    verbose = True,\n",
    "    monitor = 'train_loss', \n",
    "    mode = 'min'\n",
    "    )\n",
    "\n",
    "mc.CHECKPOINT_NAME_LAST = f'{NAME}-best-checkpoint'\n",
    "\n",
    "\n",
    "trainer = pl.Trainer(max_epochs=30,\n",
    "                    accelerator=\"gpu\",\n",
    "                    devices=1, \n",
    "                    callbacks=[mc], \n",
    "                    #progress_bar_refresh_rate=30, \n",
    "                    #fast_dev_run=True,\n",
    "                    #overfit_batches=1\n",
    "                    )\n",
    "trainer.fit(anomaly_detector, dm)"
   ]
  },
  {
   "cell_type": "code",
   "execution_count": 9,
   "metadata": {},
   "outputs": [
    {
     "name": "stderr",
     "output_type": "stream",
     "text": [
      "LOCAL_RANK: 0 - CUDA_VISIBLE_DEVICES: [0]\n"
     ]
    },
    {
     "name": "stdout",
     "output_type": "stream",
     "text": [
      "Predicting DataLoader 0: 100%|██████████| 25900/25900 [00:45<00:00, 566.99it/s]\n"
     ]
    }
   ],
   "source": [
    "errors = trainer.predict(anomaly_detector, dm)"
   ]
  },
  {
   "cell_type": "code",
   "execution_count": 12,
   "metadata": {},
   "outputs": [
    {
     "data": {
      "text/plain": [
       "(tensor([[0.0129, 0.0135, 0.0085, 0.0079, 0.4586, 0.0016, 0.0021, 0.0033, 0.0015,\n",
       "          0.0132]]),\n",
       " array(['0000-1', '0000-2', '0000-3', '0000-4', '0000-5', '0000-6',\n",
       "        '0000-7', '0000-8', '0000-9', '0000-10'], dtype=object))"
      ]
     },
     "execution_count": 12,
     "metadata": {},
     "output_type": "execute_result"
    }
   ],
   "source": [
    "errors[0], indices[0]"
   ]
  },
  {
   "cell_type": "code",
   "execution_count": 18,
   "metadata": {},
   "outputs": [
    {
     "data": {
      "text/plain": [
       "25900"
      ]
     },
     "execution_count": 18,
     "metadata": {},
     "output_type": "execute_result"
    }
   ],
   "source": [
    "len(errors)"
   ]
  },
  {
   "cell_type": "code",
   "execution_count": 132,
   "metadata": {},
   "outputs": [
    {
     "ename": "ValueError",
     "evalue": "operands could not be broadcast together with shapes (9,) (10,) (9,) ",
     "output_type": "error",
     "traceback": [
      "\u001b[0;31m---------------------------------------------------------------------------\u001b[0m",
      "\u001b[0;31mValueError\u001b[0m                                Traceback (most recent call last)",
      "\u001b[1;32m/home/datacuber/Documents/MSDS/samsara_tesis/notebooks/Vanilla_AE.ipynb Cell 12\u001b[0m in \u001b[0;36m<cell line: 2>\u001b[0;34m()\u001b[0m\n\u001b[1;32m      <a href='vscode-notebook-cell:/home/datacuber/Documents/MSDS/samsara_tesis/notebooks/Vanilla_AE.ipynb#X32sZmlsZQ%3D%3D?line=1'>2</a>\u001b[0m \u001b[39mfor\u001b[39;00m i \u001b[39min\u001b[39;00m \u001b[39mrange\u001b[39m(\u001b[39m100\u001b[39m):\n\u001b[1;32m      <a href='vscode-notebook-cell:/home/datacuber/Documents/MSDS/samsara_tesis/notebooks/Vanilla_AE.ipynb#X32sZmlsZQ%3D%3D?line=2'>3</a>\u001b[0m     \u001b[39mfor\u001b[39;00m j \u001b[39min\u001b[39;00m \u001b[39mrange\u001b[39m(i\u001b[39m*\u001b[39m\u001b[39m259\u001b[39m, i\u001b[39m*\u001b[39m\u001b[39m259\u001b[39m\u001b[39m+\u001b[39m\u001b[39m259\u001b[39m):\n\u001b[0;32m----> <a href='vscode-notebook-cell:/home/datacuber/Documents/MSDS/samsara_tesis/notebooks/Vanilla_AE.ipynb#X32sZmlsZQ%3D%3D?line=3'>4</a>\u001b[0m         suma[j:j\u001b[39m+\u001b[39mseq_len] \u001b[39m+\u001b[39m\u001b[39m=\u001b[39m errors[j]\u001b[39m.\u001b[39mT\u001b[39m.\u001b[39msqueeze(\u001b[39m-\u001b[39m\u001b[39m1\u001b[39m)\u001b[39m.\u001b[39mcpu()\u001b[39m.\u001b[39mnumpy()\n",
      "\u001b[0;31mValueError\u001b[0m: operands could not be broadcast together with shapes (9,) (10,) (9,) "
     ]
    }
   ],
   "source": [
    "suma = np.zeros(len(data))\n",
    "for i in range(100):\n",
    "    for j in range(i*259, i*259+259):\n",
    "        suma[j:j+seq_len] += errors[j].T.squeeze(-1).cpu().numpy()\n"
   ]
  },
  {
   "cell_type": "code",
   "execution_count": 149,
   "metadata": {},
   "outputs": [
    {
     "data": {
      "text/plain": [
       "(268,)"
      ]
     },
     "execution_count": 149,
     "metadata": {},
     "output_type": "execute_result"
    }
   ],
   "source": [
    "divisor[0].shape"
   ]
  },
  {
   "cell_type": "code",
   "execution_count": 148,
   "metadata": {},
   "outputs": [
    {
     "data": {
      "text/plain": [
       "(69412,)"
      ]
     },
     "execution_count": 148,
     "metadata": {},
     "output_type": "execute_result"
    }
   ],
   "source": [
    "np.repeat(divisor[0], 259).shape"
   ]
  },
  {
   "cell_type": "code",
   "execution_count": 140,
   "metadata": {},
   "outputs": [
    {
     "data": {
      "text/plain": [
       "(25900, 268)"
      ]
     },
     "execution_count": 140,
     "metadata": {},
     "output_type": "execute_result"
    }
   ],
   "source": [
    "np.array(divisor*259).shape"
   ]
  },
  {
   "cell_type": "code",
   "execution_count": 157,
   "metadata": {},
   "outputs": [],
   "source": [
    "divisor = np.array([ 1.,  2.,  3.,  4.,  5.,  6.,  7.,  8.,  9., 10., 10., 10., 10.,\n",
    "       10., 10., 10., 10.,\n",
    "       10., 10., 10., 10., 10., 10., 10., 10., 10., 10., 10., 10., 10.,\n",
    "       10., 10., 10., 10., 10., 10., 10., 10., 10., 10., 10., 10., 10.,\n",
    "       10., 10., 10., 10., 10., 10., 10., 10., 10., 10., 10., 10., 10.,\n",
    "       10., 10., 10., 10., 10., 10., 10., 10., 10., 10., 10., 10., 10.,\n",
    "       10., 10., 10., 10., 10., 10., 10., 10., 10., 10., 10., 10., 10.,\n",
    "       10., 10., 10., 10., 10., 10., 10., 10., 10., 10., 10., 10., 10.,\n",
    "       10., 10., 10., 10., 10., 10., 10., 10., 10., 10., 10., 10., 10.,\n",
    "       10., 10., 10., 10., 10., 10., 10., 10., 10., 10., 10., 10., 10.,\n",
    "       10., 10., 10., 10., 10., 10., 10., 10., 10., 10., 10., 10., 10.,\n",
    "       10., 10., 10., 10., 10., 10., 10., 10., 10., 10., 10., 10., 10.,\n",
    "       10., 10., 10., 10., 10., 10., 10., 10., 10., 10., 10., 10., 10.,\n",
    "       10., 10., 10., 10., 10., 10., 10., 10., 10., 10., 10., 10., 10.,\n",
    "       10., 10., 10., 10., 10., 10., 10., 10., 10., 10., 10., 10., 10.,\n",
    "       10., 10., 10., 10., 10., 10., 10., 10., 10., 10., 10., 10., 10.,\n",
    "       10., 10., 10., 10., 10., 10., 10., 10., 10., 10., 10., 10., 10.,\n",
    "       10., 10., 10., 10., 10., 10., 10., 10., 10., 10., 10., 10., 10.,\n",
    "       10., 10., 10., 10., 10., 10., 10., 10., 10., 10., 10., 10., 10.,\n",
    "       10., 10., 10., 10., 10., 10., 10., 10., 10., 10., 10., 10.,  9.,\n",
    "        8.,  7.,  6.,  5.,  4.,  3.,  2.,  1.])\n",
    "\n",
    "divisor_final = np.repeat(divisor, 100)\n"
   ]
  },
  {
   "cell_type": "code",
   "execution_count": 165,
   "metadata": {},
   "outputs": [
    {
     "data": {
      "image/png": "[encoded data removed]",
      "text/plain": [
       "<Figure size 640x480 with 1 Axes>"
      ]
     },
     "metadata": {},
     "output_type": "display_data"
    }
   ],
   "source": [
    "plt.hist(suma/divisor_final, bins = 100)\n",
    "plt.xlim(0, 0.2);"
   ]
  },
  {
   "cell_type": "code",
   "execution_count": 161,
   "metadata": {},
   "outputs": [
    {
     "data": {
      "image/png": "[encoded data removed]",
      "text/plain": [
       "<Figure size 1000x800 with 1 Axes>"
      ]
     },
     "metadata": {},
     "output_type": "display_data"
    }
   ],
   "source": [
    "plt.figure(figsize = (10, 8))\n",
    "plt.plot(suma/divisor_final);"
   ]
  },
  {
   "cell_type": "code",
   "execution_count": null,
   "metadata": {},
   "outputs": [],
   "source": []
  }
 ],
 "metadata": {
  "kernelspec": {
   "display_name": "Python 3.9.12 ('dl')",
   "language": "python",
   "name": "python3"
  },
  "language_info": {
   "codemirror_mode": {
    "name": "ipython",
    "version": 3
   },
   "file_extension": ".py",
   "mimetype": "text/x-python",
   "name": "python",
   "nbconvert_exporter": "python",
   "pygments_lexer": "ipython3",
   "version": "3.9.12"
  },
  "orig_nbformat": 4,
  "vscode": {
   "interpreter": {
    "hash": "819992f56cdb3a046bc9f67c0443f7ac738006dc5de2705df1a0338d97ad4f73"
   }
  }
 },
 "nbformat": 4,
 "nbformat_minor": 2
}
